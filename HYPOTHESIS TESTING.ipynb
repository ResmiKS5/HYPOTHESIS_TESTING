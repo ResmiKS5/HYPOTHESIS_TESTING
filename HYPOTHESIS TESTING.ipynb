{
 "cells": [
  {
   "cell_type": "markdown",
   "id": "d7dcec3a",
   "metadata": {},
   "source": [
    "# 1.Question\n",
    "1.Suppose a child psychologist says that the average time that working mothers spend talking to their children is at-least 11 minutes per day. You want to test You conduct a random sample of 1000 working mothers and find they spend an average of 11.5 minutes per day talking with their children. Assume prior research suggests the population standard deviation is 2.3 minutes. Conduct test with a level of significance of alpha=0.05"
   ]
  },
  {
   "cell_type": "markdown",
   "id": "5f7ce110",
   "metadata": {},
   "source": [
    "#Defining Null and alternate hypotheses\n",
    "\n",
    "Null hypothesis => The average time that working mothers spend talking to their children is at-least 11 minutes per day. \n",
    "Alternate hypothesis => The average time that working mothers spend talking to their children is less than 11 minutes per day.\n",
    "\n",
    "Choose Significance Level\n",
    "\n",
    "Given level of significance of alpha as 0.05\n",
    "\n",
    "Identifying a statistical test\n",
    "\n",
    "From the given data it is understood that the datasize is high and Standard deviation is given. So z test can be used.\n",
    "\n",
    "Calculating the test statistic"
   ]
  },
  {
   "cell_type": "code",
   "execution_count": 3,
   "id": "f8e457a6",
   "metadata": {},
   "outputs": [
    {
     "data": {
      "text/plain": [
       "0.2173913043478261"
      ]
     },
     "execution_count": 3,
     "metadata": {},
     "output_type": "execute_result"
    }
   ],
   "source": [
    "z=(11.5-11)/2.3  \n",
    "z"
   ]
  },
  {
   "cell_type": "markdown",
   "id": "82a545f3",
   "metadata": {},
   "source": [
    "# Comparing it with the level of significance"
   ]
  },
  {
   "cell_type": "markdown",
   "id": "d4ba767a",
   "metadata": {},
   "source": [
    "So,alternative hypothesis contains the less sign , \n",
    "Left-tailed test has to be performed. In that,comparison of the test statistic value and critical value is done. From the z table the critical value obtained is -1.645.since test statistic(0.217) is greater than critical value(-1.645), \n",
    "hence we can accept the null hypothesis."
   ]
  },
  {
   "cell_type": "markdown",
   "id": "5bfd5951",
   "metadata": {},
   "source": [
    "# Conclusion — rejecting or not rejecting your null hypothesis\n",
    "\n",
    "It is concluded with the null hypothesis is acceptable,i.e., there is enough evidence to support the claim that \" The average time that working mothers spend talking to their children is at-least 11 minutes per day\"."
   ]
  },
  {
   "cell_type": "markdown",
   "id": "628bf4b7",
   "metadata": {},
   "source": [
    "# 2.Question\n",
    "\n",
    "A coffee shop claims that their average wait time for customers is less than 5 minutes. To test this claim, a sample of 40 customers is taken, and their wait times are recorded. The sample mean wait time is found to be 4.6 minutes with a standard deviation of 0.8 minutes. Perform a hypothesis test at a significance level of 0.05 and determine whether there is enough evidence to support the coffee shop's claim. Perform the hypothesis testing using correct test statistics and appropriate critical value"
   ]
  },
  {
   "cell_type": "markdown",
   "id": "2eeaa698",
   "metadata": {},
   "source": [
    "# Null and Alternate Hypothesis\n",
    "\n",
    "Null hypothesis => The average wait time for customers is less than 5 minutes. Alternate hypothesis => The average wait time for customers is greater than 5 minutes.\n",
    "\n",
    "#Choose Significance Level\n",
    "\n",
    "Its already given that level of significance of alpha=0.05\n",
    "\n",
    "Identifying a statistical test\n",
    "\n",
    "From the given details we know the sample size is small(40) and the population standard deviation is not known. So here we can use t test.\n",
    "\n",
    "Calculating the test statistic\n",
    "\n",
    "\n",
    "\n"
   ]
  },
  {
   "cell_type": "code",
   "execution_count": 5,
   "id": "8d85c7e4",
   "metadata": {},
   "outputs": [
    {
     "data": {
      "text/plain": [
       "-3.162277660168382"
      ]
     },
     "execution_count": 5,
     "metadata": {},
     "output_type": "execute_result"
    }
   ],
   "source": [
    "t=(4.6-5)/(0.8/(40**0.5))\n",
    "t"
   ]
  },
  {
   "cell_type": "markdown",
   "id": "50b1f0fb",
   "metadata": {},
   "source": [
    "# Comparing it with the level of significance\n",
    "\n",
    "With reference to test statistic , right-tailed test has to be performed. In that,comparison of the test statistic value and critical value is done. From the z table the critical value obtained is -1.6849.\n",
    "since test statistic(-3.16) is less than critical value(-1.645), hence we can accept the null hypothesis.\n",
    " \n",
    "Test statistic is less than critical value so our null hypothesis is in the acceptence region."
   ]
  },
  {
   "cell_type": "markdown",
   "id": "8806e67e",
   "metadata": {},
   "source": [
    "Conclusion\n",
    "Now there is enough evidence to support the claim that \"The average wait time for customers is less than 5 minutes\" ."
   ]
  },
  {
   "cell_type": "code",
   "execution_count": null,
   "id": "222b4561",
   "metadata": {},
   "outputs": [],
   "source": []
  }
 ],
 "metadata": {
  "kernelspec": {
   "display_name": "Python 3 (ipykernel)",
   "language": "python",
   "name": "python3"
  },
  "language_info": {
   "codemirror_mode": {
    "name": "ipython",
    "version": 3
   },
   "file_extension": ".py",
   "mimetype": "text/x-python",
   "name": "python",
   "nbconvert_exporter": "python",
   "pygments_lexer": "ipython3",
   "version": "3.11.5"
  }
 },
 "nbformat": 4,
 "nbformat_minor": 5
}
